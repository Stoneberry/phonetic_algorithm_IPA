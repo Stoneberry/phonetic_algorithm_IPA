{
 "cells": [
  {
   "cell_type": "code",
   "execution_count": 1,
   "metadata": {},
   "outputs": [],
   "source": [
    "import numpy as np\n",
    "import pandas as pd\n",
    "import re\n",
    "import itertools\n",
    "import copy\n",
    "from pymorphy2 import MorphAnalyzer\n",
    "from pymystem3 import Mystem\n",
    "import collections\n",
    "from collections import defaultdict\n",
    "import csv"
   ]
  },
  {
   "cell_type": "markdown",
   "metadata": {},
   "source": [
    "## Расстояние "
   ]
  },
  {
   "cell_type": "code",
   "execution_count": 2,
   "metadata": {},
   "outputs": [],
   "source": [
    "def lev_distance(a, b):\n",
    "    \n",
    "    # Первыми - строчки \n",
    "    # столбики - слово b\n",
    "    \n",
    "    global dist_matrix\n",
    "    \n",
    "    \n",
    "    # dis = np.zeros((len(a) + 1, len(b) + 1))\n",
    "    dis = [[0] * (len(b) + 1) for _ in range(len(a) + 1)] \n",
    "    i = 0\n",
    "    row = 0\n",
    "    col = 0\n",
    "\n",
    "    while i < dis.size:\n",
    "\n",
    "        if row == 0:\n",
    "            if col != 0:\n",
    "                dis[row, col] = dis[row, col-1] + 1\n",
    "\n",
    "        elif col == 0:\n",
    "            if row != 0:\n",
    "                dis[row, col] = dis[row - 1, col] + 1\n",
    "        \n",
    "  \n",
    "        elif row > 1 and col > 1 and a[row-1] == b[col-2] and a[row-2] == b[col-1]:\n",
    "            dis[row, col] = dis[row - 3][col - 3] + 1\n",
    "            \n",
    "        \n",
    "        else:\n",
    "            dis[row, col] = min([dis[row, col - 1] + 1,  # левый \n",
    "                                    dis[row - 1, col - 1] + dist_matrix[a[row-1]][b[col-1]], # диаг               \n",
    "                                    dis[row - 1, col] + 1]) # верхний\n",
    "        \n",
    "        col += 1\n",
    "        i += 1  \n",
    "        if col == len(b) + 1:\n",
    "            col = 0\n",
    "            row += 1\n",
    "  \n",
    "    return dis[len(a), len(b)]"
   ]
  },
  {
   "cell_type": "code",
   "execution_count": null,
   "metadata": {},
   "outputs": [],
   "source": []
  },
  {
   "cell_type": "markdown",
   "metadata": {},
   "source": [
    "# Данные"
   ]
  },
  {
   "cell_type": "code",
   "execution_count": 20,
   "metadata": {},
   "outputs": [],
   "source": [
    "data = pd.read_csv('data.csv')\n",
    "data = data.set_index('Unnamed: 0')"
   ]
  },
  {
   "cell_type": "code",
   "execution_count": 26,
   "metadata": {},
   "outputs": [
    {
     "data": {
      "text/html": [
       "<div>\n",
       "<style scoped>\n",
       "    .dataframe tbody tr th:only-of-type {\n",
       "        vertical-align: middle;\n",
       "    }\n",
       "\n",
       "    .dataframe tbody tr th {\n",
       "        vertical-align: top;\n",
       "    }\n",
       "\n",
       "    .dataframe thead th {\n",
       "        text-align: right;\n",
       "    }\n",
       "</style>\n",
       "<table border=\"1\" class=\"dataframe\">\n",
       "  <thead>\n",
       "    <tr style=\"text-align: right;\">\n",
       "      <th></th>\n",
       "      <th>syllabic</th>\n",
       "      <th>stress</th>\n",
       "      <th>long</th>\n",
       "      <th>consonantal</th>\n",
       "      <th>sonorant</th>\n",
       "      <th>continuant</th>\n",
       "      <th>delayed release</th>\n",
       "      <th>approximant</th>\n",
       "      <th>tap</th>\n",
       "      <th>trill</th>\n",
       "      <th>...</th>\n",
       "      <th>anterior</th>\n",
       "      <th>distributed</th>\n",
       "      <th>strident</th>\n",
       "      <th>lateral</th>\n",
       "      <th>DORSAL</th>\n",
       "      <th>high</th>\n",
       "      <th>low</th>\n",
       "      <th>front</th>\n",
       "      <th>back</th>\n",
       "      <th>tense</th>\n",
       "    </tr>\n",
       "    <tr>\n",
       "      <th>Unnamed: 0</th>\n",
       "      <th></th>\n",
       "      <th></th>\n",
       "      <th></th>\n",
       "      <th></th>\n",
       "      <th></th>\n",
       "      <th></th>\n",
       "      <th></th>\n",
       "      <th></th>\n",
       "      <th></th>\n",
       "      <th></th>\n",
       "      <th></th>\n",
       "      <th></th>\n",
       "      <th></th>\n",
       "      <th></th>\n",
       "      <th></th>\n",
       "      <th></th>\n",
       "      <th></th>\n",
       "      <th></th>\n",
       "      <th></th>\n",
       "      <th></th>\n",
       "      <th></th>\n",
       "    </tr>\n",
       "  </thead>\n",
       "  <tbody>\n",
       "    <tr>\n",
       "      <th>ɒ</th>\n",
       "      <td>+</td>\n",
       "      <td>-</td>\n",
       "      <td>-</td>\n",
       "      <td>-</td>\n",
       "      <td>+</td>\n",
       "      <td>+</td>\n",
       "      <td>None</td>\n",
       "      <td>+</td>\n",
       "      <td>-</td>\n",
       "      <td>-</td>\n",
       "      <td>...</td>\n",
       "      <td>None</td>\n",
       "      <td>None</td>\n",
       "      <td>None</td>\n",
       "      <td>-</td>\n",
       "      <td>+</td>\n",
       "      <td>-</td>\n",
       "      <td>+</td>\n",
       "      <td>-</td>\n",
       "      <td>+</td>\n",
       "      <td>None</td>\n",
       "    </tr>\n",
       "    <tr>\n",
       "      <th>a</th>\n",
       "      <td>+</td>\n",
       "      <td>-</td>\n",
       "      <td>-</td>\n",
       "      <td>-</td>\n",
       "      <td>+</td>\n",
       "      <td>+</td>\n",
       "      <td>None</td>\n",
       "      <td>+</td>\n",
       "      <td>-</td>\n",
       "      <td>-</td>\n",
       "      <td>...</td>\n",
       "      <td>None</td>\n",
       "      <td>None</td>\n",
       "      <td>None</td>\n",
       "      <td>-</td>\n",
       "      <td>+</td>\n",
       "      <td>-</td>\n",
       "      <td>+</td>\n",
       "      <td>-</td>\n",
       "      <td>+</td>\n",
       "      <td>None</td>\n",
       "    </tr>\n",
       "    <tr>\n",
       "      <th>ɶ</th>\n",
       "      <td>+</td>\n",
       "      <td>-</td>\n",
       "      <td>-</td>\n",
       "      <td>-</td>\n",
       "      <td>+</td>\n",
       "      <td>+</td>\n",
       "      <td>None</td>\n",
       "      <td>+</td>\n",
       "      <td>-</td>\n",
       "      <td>-</td>\n",
       "      <td>...</td>\n",
       "      <td>None</td>\n",
       "      <td>None</td>\n",
       "      <td>None</td>\n",
       "      <td>-</td>\n",
       "      <td>+</td>\n",
       "      <td>-</td>\n",
       "      <td>+</td>\n",
       "      <td>+</td>\n",
       "      <td>-</td>\n",
       "      <td>None</td>\n",
       "    </tr>\n",
       "    <tr>\n",
       "      <th>ɑ</th>\n",
       "      <td>+</td>\n",
       "      <td>-</td>\n",
       "      <td>-</td>\n",
       "      <td>-</td>\n",
       "      <td>+</td>\n",
       "      <td>+</td>\n",
       "      <td>None</td>\n",
       "      <td>+</td>\n",
       "      <td>-</td>\n",
       "      <td>-</td>\n",
       "      <td>...</td>\n",
       "      <td>None</td>\n",
       "      <td>None</td>\n",
       "      <td>None</td>\n",
       "      <td>-</td>\n",
       "      <td>+</td>\n",
       "      <td>-</td>\n",
       "      <td>+</td>\n",
       "      <td>-</td>\n",
       "      <td>-</td>\n",
       "      <td>None</td>\n",
       "    </tr>\n",
       "    <tr>\n",
       "      <th>œ</th>\n",
       "      <td>+</td>\n",
       "      <td>-</td>\n",
       "      <td>-</td>\n",
       "      <td>-</td>\n",
       "      <td>+</td>\n",
       "      <td>+</td>\n",
       "      <td>None</td>\n",
       "      <td>+</td>\n",
       "      <td>-</td>\n",
       "      <td>-</td>\n",
       "      <td>...</td>\n",
       "      <td>None</td>\n",
       "      <td>None</td>\n",
       "      <td>None</td>\n",
       "      <td>-</td>\n",
       "      <td>+</td>\n",
       "      <td>-</td>\n",
       "      <td>+</td>\n",
       "      <td>+</td>\n",
       "      <td>-</td>\n",
       "      <td>None</td>\n",
       "    </tr>\n",
       "  </tbody>\n",
       "</table>\n",
       "<p>5 rows × 28 columns</p>\n",
       "</div>"
      ],
      "text/plain": [
       "           syllabic stress long consonantal sonorant continuant  \\\n",
       "Unnamed: 0                                                        \n",
       "ɒ                 +      -    -           -        +          +   \n",
       "a                 +      -    -           -        +          +   \n",
       "ɶ                 +      -    -           -        +          +   \n",
       "ɑ                 +      -    -           -        +          +   \n",
       "œ                 +      -    -           -        +          +   \n",
       "\n",
       "           delayed release approximant tap trill  ...  anterior distributed  \\\n",
       "Unnamed: 0                                        ...                         \n",
       "ɒ                     None           +   -     -  ...      None        None   \n",
       "a                     None           +   -     -  ...      None        None   \n",
       "ɶ                     None           +   -     -  ...      None        None   \n",
       "ɑ                     None           +   -     -  ...      None        None   \n",
       "œ                     None           +   -     -  ...      None        None   \n",
       "\n",
       "           strident lateral DORSAL high low front back tense  \n",
       "Unnamed: 0                                                    \n",
       "ɒ              None       -      +    -   +     -    +  None  \n",
       "a              None       -      +    -   +     -    +  None  \n",
       "ɶ              None       -      +    -   +     +    -  None  \n",
       "ɑ              None       -      +    -   +     -    -  None  \n",
       "œ              None       -      +    -   +     +    -  None  \n",
       "\n",
       "[5 rows x 28 columns]"
      ]
     },
     "execution_count": 26,
     "metadata": {},
     "output_type": "execute_result"
    }
   ],
   "source": [
    "data.head()"
   ]
  },
  {
   "cell_type": "markdown",
   "metadata": {},
   "source": [
    "# Non Language specific"
   ]
  },
  {
   "cell_type": "markdown",
   "metadata": {},
   "source": [
    "## data"
   ]
  },
  {
   "cell_type": "code",
   "execution_count": 326,
   "metadata": {},
   "outputs": [],
   "source": [
    "def sound_dist(a, b, data):\n",
    "    \n",
    "    '''\n",
    "    реализовать stress = + при условии если ударный гласный\n",
    "    ингнорирование лишней диакритики\n",
    "    '''\n",
    "    \n",
    "    a = pd.get_dummies(data.loc[a]) \n",
    "    b = pd.get_dummies(data.loc[b])\n",
    "    \n",
    "    together = a + b\n",
    "    \n",
    "    similar = 0\n",
    "    uncommon = 0\n",
    "    common = 0\n",
    "\n",
    "    if '+' in together and 2 in together['+'].value_counts():\n",
    "        similar += together['+'].value_counts()[2]\n",
    "\n",
    "    if '-' in together and 2 in together['-'].value_counts():\n",
    "        similar += together['-'].value_counts()[2]\n",
    "\n",
    "    if 'None' in together:\n",
    "        None_values = together['None'].value_counts()\n",
    "        \n",
    "        if 1 in None_values:\n",
    "            uncommon = None_values[1]\n",
    "\n",
    "        if 0 in None_values:\n",
    "            common = None_values[0]\n",
    "        \n",
    "    dist = 1 - (similar / (common + (uncommon * 2)))\n",
    "    \n",
    "    return dist\n",
    "\n",
    "\n",
    "def non_ls_dist_matrix(data):\n",
    "    \n",
    "    col_ind = data.index.tolist()\n",
    "    n_col = len(col_ind)\n",
    "    dist_matrix = pd.DataFrame(np.zeros((n_col, n_col)),\n",
    "                               index=col_ind, columns=col_ind)\n",
    "    \n",
    "    for i in itertools.combinations_with_replacement(data.index, 2):\n",
    "            \n",
    "            result = sound_dist(i[0], i[1], data)\n",
    "            dist_matrix[i[0]][i[1]] = result\n",
    "            dist_matrix[i[1]][i[0]] = result\n",
    "    \n",
    "    return dist_matrix"
   ]
  },
  {
   "cell_type": "code",
   "execution_count": 170,
   "metadata": {},
   "outputs": [
    {
     "name": "stdout",
     "output_type": "stream",
     "text": [
      "CPU times: user 43.9 s, sys: 118 ms, total: 44 s\n",
      "Wall time: 44.1 s\n"
     ]
    }
   ],
   "source": [
    "%%time\n",
    "non_ls_dist = non_ls_dist_matrix(141, data)"
   ]
  },
  {
   "cell_type": "code",
   "execution_count": 171,
   "metadata": {},
   "outputs": [
    {
     "data": {
      "text/html": [
       "<div>\n",
       "<style scoped>\n",
       "    .dataframe tbody tr th:only-of-type {\n",
       "        vertical-align: middle;\n",
       "    }\n",
       "\n",
       "    .dataframe tbody tr th {\n",
       "        vertical-align: top;\n",
       "    }\n",
       "\n",
       "    .dataframe thead th {\n",
       "        text-align: right;\n",
       "    }\n",
       "</style>\n",
       "<table border=\"1\" class=\"dataframe\">\n",
       "  <thead>\n",
       "    <tr style=\"text-align: right;\">\n",
       "      <th></th>\n",
       "      <th>ɒ</th>\n",
       "      <th>a</th>\n",
       "      <th>ɶ</th>\n",
       "      <th>ɑ</th>\n",
       "      <th>œ</th>\n",
       "      <th>Ã</th>\n",
       "      <th>ɔ</th>\n",
       "      <th>o</th>\n",
       "      <th>ɤ</th>\n",
       "      <th>ɘ</th>\n",
       "      <th>...</th>\n",
       "      <th>ɰ</th>\n",
       "      <th>ɰ̠</th>\n",
       "      <th>w</th>\n",
       "      <th>ɥ</th>\n",
       "      <th>j</th>\n",
       "      <th>ɹ</th>\n",
       "      <th>ʋ</th>\n",
       "      <th>ʍ</th>\n",
       "      <th>ɦ</th>\n",
       "      <th>h</th>\n",
       "    </tr>\n",
       "  </thead>\n",
       "  <tbody>\n",
       "    <tr>\n",
       "      <th>ɒ</th>\n",
       "      <td>0.000000</td>\n",
       "      <td>0.086957</td>\n",
       "      <td>0.086957</td>\n",
       "      <td>0.130435</td>\n",
       "      <td>0.173913</td>\n",
       "      <td>0.20</td>\n",
       "      <td>0.12</td>\n",
       "      <td>0.12</td>\n",
       "      <td>0.20</td>\n",
       "      <td>0.24</td>\n",
       "      <td>...</td>\n",
       "      <td>0.407407</td>\n",
       "      <td>0.28</td>\n",
       "      <td>0.20</td>\n",
       "      <td>0.28</td>\n",
       "      <td>0.36</td>\n",
       "      <td>0.575758</td>\n",
       "      <td>0.444444</td>\n",
       "      <td>0.407407</td>\n",
       "      <td>0.586207</td>\n",
       "      <td>0.620690</td>\n",
       "    </tr>\n",
       "    <tr>\n",
       "      <th>a</th>\n",
       "      <td>0.086957</td>\n",
       "      <td>0.000000</td>\n",
       "      <td>0.173913</td>\n",
       "      <td>0.043478</td>\n",
       "      <td>0.086957</td>\n",
       "      <td>0.12</td>\n",
       "      <td>0.20</td>\n",
       "      <td>0.20</td>\n",
       "      <td>0.12</td>\n",
       "      <td>0.16</td>\n",
       "      <td>...</td>\n",
       "      <td>0.333333</td>\n",
       "      <td>0.20</td>\n",
       "      <td>0.28</td>\n",
       "      <td>0.36</td>\n",
       "      <td>0.28</td>\n",
       "      <td>0.515152</td>\n",
       "      <td>0.444444</td>\n",
       "      <td>0.481481</td>\n",
       "      <td>0.517241</td>\n",
       "      <td>0.551724</td>\n",
       "    </tr>\n",
       "    <tr>\n",
       "      <th>ɶ</th>\n",
       "      <td>0.086957</td>\n",
       "      <td>0.173913</td>\n",
       "      <td>0.000000</td>\n",
       "      <td>0.130435</td>\n",
       "      <td>0.086957</td>\n",
       "      <td>0.28</td>\n",
       "      <td>0.20</td>\n",
       "      <td>0.20</td>\n",
       "      <td>0.28</td>\n",
       "      <td>0.24</td>\n",
       "      <td>...</td>\n",
       "      <td>0.407407</td>\n",
       "      <td>0.36</td>\n",
       "      <td>0.28</td>\n",
       "      <td>0.20</td>\n",
       "      <td>0.28</td>\n",
       "      <td>0.575758</td>\n",
       "      <td>0.444444</td>\n",
       "      <td>0.481481</td>\n",
       "      <td>0.586207</td>\n",
       "      <td>0.620690</td>\n",
       "    </tr>\n",
       "    <tr>\n",
       "      <th>ɑ</th>\n",
       "      <td>0.130435</td>\n",
       "      <td>0.043478</td>\n",
       "      <td>0.130435</td>\n",
       "      <td>0.000000</td>\n",
       "      <td>0.043478</td>\n",
       "      <td>0.16</td>\n",
       "      <td>0.24</td>\n",
       "      <td>0.24</td>\n",
       "      <td>0.16</td>\n",
       "      <td>0.12</td>\n",
       "      <td>...</td>\n",
       "      <td>0.333333</td>\n",
       "      <td>0.24</td>\n",
       "      <td>0.32</td>\n",
       "      <td>0.32</td>\n",
       "      <td>0.24</td>\n",
       "      <td>0.515152</td>\n",
       "      <td>0.444444</td>\n",
       "      <td>0.518519</td>\n",
       "      <td>0.517241</td>\n",
       "      <td>0.551724</td>\n",
       "    </tr>\n",
       "    <tr>\n",
       "      <th>œ</th>\n",
       "      <td>0.173913</td>\n",
       "      <td>0.086957</td>\n",
       "      <td>0.086957</td>\n",
       "      <td>0.043478</td>\n",
       "      <td>0.000000</td>\n",
       "      <td>0.20</td>\n",
       "      <td>0.28</td>\n",
       "      <td>0.28</td>\n",
       "      <td>0.20</td>\n",
       "      <td>0.16</td>\n",
       "      <td>...</td>\n",
       "      <td>0.333333</td>\n",
       "      <td>0.28</td>\n",
       "      <td>0.36</td>\n",
       "      <td>0.28</td>\n",
       "      <td>0.20</td>\n",
       "      <td>0.515152</td>\n",
       "      <td>0.444444</td>\n",
       "      <td>0.555556</td>\n",
       "      <td>0.517241</td>\n",
       "      <td>0.551724</td>\n",
       "    </tr>\n",
       "  </tbody>\n",
       "</table>\n",
       "<p>5 rows × 141 columns</p>\n",
       "</div>"
      ],
      "text/plain": [
       "          ɒ         a         ɶ         ɑ         œ     Ã     ɔ     o     ɤ  \\\n",
       "ɒ  0.000000  0.086957  0.086957  0.130435  0.173913  0.20  0.12  0.12  0.20   \n",
       "a  0.086957  0.000000  0.173913  0.043478  0.086957  0.12  0.20  0.20  0.12   \n",
       "ɶ  0.086957  0.173913  0.000000  0.130435  0.086957  0.28  0.20  0.20  0.28   \n",
       "ɑ  0.130435  0.043478  0.130435  0.000000  0.043478  0.16  0.24  0.24  0.16   \n",
       "œ  0.173913  0.086957  0.086957  0.043478  0.000000  0.20  0.28  0.28  0.20   \n",
       "\n",
       "      ɘ    ...            ɰ    ɰ̠     w     ɥ     j         ɹ         ʋ  \\\n",
       "ɒ  0.24    ...     0.407407  0.28  0.20  0.28  0.36  0.575758  0.444444   \n",
       "a  0.16    ...     0.333333  0.20  0.28  0.36  0.28  0.515152  0.444444   \n",
       "ɶ  0.24    ...     0.407407  0.36  0.28  0.20  0.28  0.575758  0.444444   \n",
       "ɑ  0.12    ...     0.333333  0.24  0.32  0.32  0.24  0.515152  0.444444   \n",
       "œ  0.16    ...     0.333333  0.28  0.36  0.28  0.20  0.515152  0.444444   \n",
       "\n",
       "          ʍ         ɦ         h  \n",
       "ɒ  0.407407  0.586207  0.620690  \n",
       "a  0.481481  0.517241  0.551724  \n",
       "ɶ  0.481481  0.586207  0.620690  \n",
       "ɑ  0.518519  0.517241  0.551724  \n",
       "œ  0.555556  0.517241  0.551724  \n",
       "\n",
       "[5 rows x 141 columns]"
      ]
     },
     "execution_count": 171,
     "metadata": {},
     "output_type": "execute_result"
    }
   ],
   "source": [
    "non_ls_dist.head()"
   ]
  },
  {
   "cell_type": "code",
   "execution_count": 507,
   "metadata": {},
   "outputs": [],
   "source": [
    "non_ls_dist.to_csv('/Users/Stoneberry/Desktop/курсач/4/dist_matrix.csv', sep=';')"
   ]
  },
  {
   "cell_type": "markdown",
   "metadata": {},
   "source": [
    "# Language specific"
   ]
  },
  {
   "cell_type": "markdown",
   "metadata": {},
   "source": [
    "## data"
   ]
  },
  {
   "cell_type": "code",
   "execution_count": 178,
   "metadata": {},
   "outputs": [],
   "source": [
    "import csv"
   ]
  },
  {
   "cell_type": "code",
   "execution_count": 194,
   "metadata": {},
   "outputs": [],
   "source": [
    "def open_data(path, delimiter):\n",
    "    \n",
    "    with open(path, 'r') as csvfile:\n",
    "        \n",
    "        reader = csv.reader(csvfile, delimiter=delimiter)\n",
    "        data = list(reader)\n",
    "    \n",
    "    return data"
   ]
  },
  {
   "cell_type": "code",
   "execution_count": 334,
   "metadata": {},
   "outputs": [],
   "source": [
    "words = open_data('test.csv',  ';')"
   ]
  },
  {
   "cell_type": "code",
   "execution_count": 482,
   "metadata": {},
   "outputs": [],
   "source": [
    "reg = 'ɡ̠ɣ̠|t̠ɬ̠|k̟x̟|g̟ɣ̟|ŋ̟.1|d̠ɮ̠|k̠x̠|d͡ʑ|lò|kp|ɡb|pt|bd|dʒ|dz|dɮ|tʃ|ts|tɬ|ʈʂ|ɖʐ|pf|bv|pɸ|bβ|tθ|dð|cç|ɟʝ|kx|ɡɣ|qχ|ɢʀ|ts.1|tɬ.1|dz.1|dɮ.1|œ.1|ʟ̠|ŋ̟|ʟ̟|ɣ̟|x̟|k̟|ɡ̟|ɣ̠|x̠|k̠|ɡ̠|ɰ̠|ɒ|a|ɶ|ɑ|œ|Ã|ɔ|o|ɤ|ɘ|ə|e|ɞ|ø|ɛ|ɵ|ɯ|u|ʊ|ɨ|ʉ|y|i|ʏ|ɪ|ɴ|ʀ|ɲ|ʎ|ŋ|ʟ|ɳ|ʙ|ɭ|ä|ɻ|ɽ|r|n|m|l|ɾ|ɱ|ʔ|ħ|ʕ|ʁ|q|χ|ɢ|ɕ|ɟ|ʝ|c|ç|tɕ|ɣ|x|k|ɡ|ʑ|ʈ|ɖ|ɬ|ʐ|ɸ|ʂ|ʒ|z|v|t|ʃ|s|p|f|d|b|θ|ɮ|ð|β|ɧ|ɰ|w|ɥ|j|ɹ|ʋ|ʍ|ɦ|h'"
   ]
  },
  {
   "cell_type": "markdown",
   "metadata": {},
   "source": [
    "# Делим транскрипцию на части"
   ]
  },
  {
   "cell_type": "code",
   "execution_count": 490,
   "metadata": {},
   "outputs": [],
   "source": [
    "def phone_splitter(word):\n",
    "    \n",
    "    '''\n",
    "        + - advanced\n",
    "        _ - retracted\n",
    "        tʲ - мягкий (back +)\n",
    "        tʷ - Labalized (round + )\n",
    "        dⁿ - nasal +\n",
    "        _1 - stress + \n",
    "        tˠ - Velarized\n",
    "        t̬ - voiced\n",
    "        d̥ - voiceless\n",
    "    '''\n",
    "    \n",
    "    \n",
    "    def find_stress_vow(word):\n",
    "        \n",
    "        '''\n",
    "        Ищет ударные гласный и дифтонги\n",
    "        '''\n",
    "        r_stress = '_[1-4]'\n",
    "        f = re.findall(r_stress, word)\n",
    "        st_reg = ''\n",
    "        \n",
    "        for i in f:\n",
    "            st_reg += ('.'*int(i[-1])) + i + '|'\n",
    "        return st_reg\n",
    "    \n",
    "    \n",
    "    word = re.sub('͡', '_аффрик_', word)\n",
    "    word = re.sub('̥', '_глух', word)\n",
    "    word = re.sub('̬', '_звонк', word)\n",
    "    r_stress = find_stress_vow(word)    # _1\n",
    "\n",
    "    all_ = '(' + r_stress + '._аффрик_.' + '|' + '._звонк' + '|' + '._глух' + '|' + '.ⁿ' + '|' + '.ʲ' + '|' + '.ʷ' + '|' + reg + '|' + '.'+ ')'\n",
    "    res = re.findall(all_, word)\n",
    "\n",
    "    return res + ['<eos>']"
   ]
  },
  {
   "cell_type": "code",
   "execution_count": 491,
   "metadata": {},
   "outputs": [
    {
     "data": {
      "text/plain": [
       "['p',\n",
       " 'ˠ',\n",
       " 'r',\n",
       " 'aɒ_2',\n",
       " 't',\n",
       " 'd_аффрик_ʑ',\n",
       " 'ə',\n",
       " 'k̟',\n",
       " 't',\n",
       " 'ʟ̠',\n",
       " 'tʷ',\n",
       " 'dⁿ',\n",
       " 'tʲ',\n",
       " 't',\n",
       " 'ˠ',\n",
       " 'd_глух',\n",
       " 't_звонк',\n",
       " 'ʧ',\n",
       " 'dʒ',\n",
       " 'tʃ',\n",
       " '<eos>']"
      ]
     },
     "execution_count": 491,
     "metadata": {},
     "output_type": "execute_result"
    }
   ],
   "source": [
    "word = 'pˠraɒ_2td͡ʑək̟tʟ̠tʷdⁿtʲtˠd̥t̬ʧdʒtʃ'\n",
    "phone_splitter(word)"
   ]
  },
  {
   "cell_type": "code",
   "execution_count": 492,
   "metadata": {},
   "outputs": [
    {
     "name": "stdout",
     "output_type": "stream",
     "text": [
      "['m', 'e', 'i', 't', '<eos>']\n",
      "['h', 'e', 'i', 't', '<eos>']\n",
      "['l', 'a', 'v', '<eos>']\n",
      "['p', 'r', 'ə', 'k', 't', '<eos>']\n"
     ]
    }
   ],
   "source": [
    "for i in words:\n",
    "    for l in i:\n",
    "        print(phone_splitter(l))"
   ]
  },
  {
   "cell_type": "code",
   "execution_count": null,
   "metadata": {},
   "outputs": [],
   "source": []
  },
  {
   "cell_type": "code",
   "execution_count": 493,
   "metadata": {},
   "outputs": [],
   "source": [
    "def all_phones(arr):\n",
    "\n",
    "    phones = []\n",
    "\n",
    "    for line in arr:\n",
    "\n",
    "        if len(line) != 2:\n",
    "            raise ValueError('There have to be 2 columns in a line. Check your delimiter.')\n",
    "\n",
    "        for word in line:\n",
    "\n",
    "            if word == '':\n",
    "                raise ValueError('All columns have to be filled.')\n",
    "            phones += phone_splitter(word)\n",
    "\n",
    "        phones.append('<\\n>')\n",
    "\n",
    "    return phones"
   ]
  },
  {
   "cell_type": "code",
   "execution_count": 494,
   "metadata": {},
   "outputs": [
    {
     "data": {
      "text/plain": [
       "['m',\n",
       " 'e',\n",
       " 'i',\n",
       " 't',\n",
       " '<eos>',\n",
       " 'h',\n",
       " 'e',\n",
       " 'i',\n",
       " 't',\n",
       " '<eos>',\n",
       " '<\\n>',\n",
       " 'l',\n",
       " 'a',\n",
       " 'v',\n",
       " '<eos>',\n",
       " 'p',\n",
       " 'r',\n",
       " 'ə',\n",
       " 'k',\n",
       " 't',\n",
       " '<eos>',\n",
       " '<\\n>']"
      ]
     },
     "execution_count": 494,
     "metadata": {},
     "output_type": "execute_result"
    }
   ],
   "source": [
    "all_phones(words)"
   ]
  },
  {
   "cell_type": "code",
   "execution_count": null,
   "metadata": {},
   "outputs": [],
   "source": []
  },
  {
   "cell_type": "markdown",
   "metadata": {},
   "source": [
    "# irrelevant_features"
   ]
  },
  {
   "cell_type": "code",
   "execution_count": 275,
   "metadata": {},
   "outputs": [],
   "source": [
    "def irrelevant_features(phones, data):\n",
    "    \n",
    "    '''\n",
    "    Надо ли удалять звуки, которые не встретились?\n",
    "    '''\n",
    "    \n",
    "    features = set()\n",
    "    \n",
    "    for index, phone in enumerate(set(phones)):\n",
    "        \n",
    "        if phone not in ('<\\n>', '<eos>'):\n",
    "        \n",
    "            res = set(data.loc[phone].loc[data.loc[phone] == 'None'].keys())\n",
    "            \n",
    "            if index == 0: features = res\n",
    "            else: features &= res\n",
    "\n",
    "    return features"
   ]
  },
  {
   "cell_type": "code",
   "execution_count": 330,
   "metadata": {},
   "outputs": [],
   "source": [
    "def ls_dist_matrix(phones, data):\n",
    "    \n",
    "    irr_f = irrelevant_features(phones, data)\n",
    "    data = data.drop(columns=irr_f)\n",
    "    \n",
    "    dist_matrix = non_ls_dist_matrix(data)\n",
    "    \n",
    "    return dist_matrix"
   ]
  },
  {
   "cell_type": "code",
   "execution_count": 331,
   "metadata": {
    "scrolled": true
   },
   "outputs": [
    {
     "name": "stderr",
     "output_type": "stream",
     "text": [
      "/Library/Frameworks/Python.framework/Versions/3.6/lib/python3.6/site-packages/ipykernel_launcher.py:27: RuntimeWarning: divide by zero encountered in long_scalars\n"
     ]
    },
    {
     "data": {
      "text/html": [
       "<div>\n",
       "<style scoped>\n",
       "    .dataframe tbody tr th:only-of-type {\n",
       "        vertical-align: middle;\n",
       "    }\n",
       "\n",
       "    .dataframe tbody tr th {\n",
       "        vertical-align: top;\n",
       "    }\n",
       "\n",
       "    .dataframe thead th {\n",
       "        text-align: right;\n",
       "    }\n",
       "</style>\n",
       "<table border=\"1\" class=\"dataframe\">\n",
       "  <thead>\n",
       "    <tr style=\"text-align: right;\">\n",
       "      <th></th>\n",
       "      <th>ɒ</th>\n",
       "      <th>a</th>\n",
       "      <th>ɶ</th>\n",
       "      <th>ɑ</th>\n",
       "      <th>œ</th>\n",
       "      <th>Ã</th>\n",
       "      <th>ɔ</th>\n",
       "      <th>o</th>\n",
       "      <th>ɤ</th>\n",
       "      <th>ɘ</th>\n",
       "      <th>...</th>\n",
       "      <th>ɰ</th>\n",
       "      <th>ɰ̠</th>\n",
       "      <th>w</th>\n",
       "      <th>ɥ</th>\n",
       "      <th>j</th>\n",
       "      <th>ɹ</th>\n",
       "      <th>ʋ</th>\n",
       "      <th>ʍ</th>\n",
       "      <th>ɦ</th>\n",
       "      <th>h</th>\n",
       "    </tr>\n",
       "  </thead>\n",
       "  <tbody>\n",
       "    <tr>\n",
       "      <th>ɒ</th>\n",
       "      <td>0.000000</td>\n",
       "      <td>0.105263</td>\n",
       "      <td>0.000000</td>\n",
       "      <td>0.105263</td>\n",
       "      <td>0.105263</td>\n",
       "      <td>0.105263</td>\n",
       "      <td>0.000000</td>\n",
       "      <td>0.000000</td>\n",
       "      <td>0.105263</td>\n",
       "      <td>0.105263</td>\n",
       "      <td>...</td>\n",
       "      <td>0.157895</td>\n",
       "      <td>0.157895</td>\n",
       "      <td>0.052632</td>\n",
       "      <td>0.052632</td>\n",
       "      <td>0.157895</td>\n",
       "      <td>0.44</td>\n",
       "      <td>0.210526</td>\n",
       "      <td>0.333333</td>\n",
       "      <td>0.428571</td>\n",
       "      <td>0.476190</td>\n",
       "    </tr>\n",
       "    <tr>\n",
       "      <th>a</th>\n",
       "      <td>0.105263</td>\n",
       "      <td>0.000000</td>\n",
       "      <td>0.105263</td>\n",
       "      <td>0.000000</td>\n",
       "      <td>0.000000</td>\n",
       "      <td>0.000000</td>\n",
       "      <td>0.105263</td>\n",
       "      <td>0.105263</td>\n",
       "      <td>0.000000</td>\n",
       "      <td>0.000000</td>\n",
       "      <td>...</td>\n",
       "      <td>0.052632</td>\n",
       "      <td>0.052632</td>\n",
       "      <td>0.157895</td>\n",
       "      <td>0.157895</td>\n",
       "      <td>0.052632</td>\n",
       "      <td>0.36</td>\n",
       "      <td>0.210526</td>\n",
       "      <td>0.428571</td>\n",
       "      <td>0.333333</td>\n",
       "      <td>0.380952</td>\n",
       "    </tr>\n",
       "    <tr>\n",
       "      <th>ɶ</th>\n",
       "      <td>0.000000</td>\n",
       "      <td>0.105263</td>\n",
       "      <td>0.000000</td>\n",
       "      <td>0.105263</td>\n",
       "      <td>0.105263</td>\n",
       "      <td>0.105263</td>\n",
       "      <td>0.000000</td>\n",
       "      <td>0.000000</td>\n",
       "      <td>0.105263</td>\n",
       "      <td>0.105263</td>\n",
       "      <td>...</td>\n",
       "      <td>0.157895</td>\n",
       "      <td>0.157895</td>\n",
       "      <td>0.052632</td>\n",
       "      <td>0.052632</td>\n",
       "      <td>0.157895</td>\n",
       "      <td>0.44</td>\n",
       "      <td>0.210526</td>\n",
       "      <td>0.333333</td>\n",
       "      <td>0.428571</td>\n",
       "      <td>0.476190</td>\n",
       "    </tr>\n",
       "    <tr>\n",
       "      <th>ɑ</th>\n",
       "      <td>0.105263</td>\n",
       "      <td>0.000000</td>\n",
       "      <td>0.105263</td>\n",
       "      <td>0.000000</td>\n",
       "      <td>0.000000</td>\n",
       "      <td>0.000000</td>\n",
       "      <td>0.105263</td>\n",
       "      <td>0.105263</td>\n",
       "      <td>0.000000</td>\n",
       "      <td>0.000000</td>\n",
       "      <td>...</td>\n",
       "      <td>0.052632</td>\n",
       "      <td>0.052632</td>\n",
       "      <td>0.157895</td>\n",
       "      <td>0.157895</td>\n",
       "      <td>0.052632</td>\n",
       "      <td>0.36</td>\n",
       "      <td>0.210526</td>\n",
       "      <td>0.428571</td>\n",
       "      <td>0.333333</td>\n",
       "      <td>0.380952</td>\n",
       "    </tr>\n",
       "    <tr>\n",
       "      <th>œ</th>\n",
       "      <td>0.105263</td>\n",
       "      <td>0.000000</td>\n",
       "      <td>0.105263</td>\n",
       "      <td>0.000000</td>\n",
       "      <td>0.000000</td>\n",
       "      <td>0.000000</td>\n",
       "      <td>0.105263</td>\n",
       "      <td>0.105263</td>\n",
       "      <td>0.000000</td>\n",
       "      <td>0.000000</td>\n",
       "      <td>...</td>\n",
       "      <td>0.052632</td>\n",
       "      <td>0.052632</td>\n",
       "      <td>0.157895</td>\n",
       "      <td>0.157895</td>\n",
       "      <td>0.052632</td>\n",
       "      <td>0.36</td>\n",
       "      <td>0.210526</td>\n",
       "      <td>0.428571</td>\n",
       "      <td>0.333333</td>\n",
       "      <td>0.380952</td>\n",
       "    </tr>\n",
       "  </tbody>\n",
       "</table>\n",
       "<p>5 rows × 141 columns</p>\n",
       "</div>"
      ],
      "text/plain": [
       "          ɒ         a         ɶ         ɑ         œ         Ã         ɔ  \\\n",
       "ɒ  0.000000  0.105263  0.000000  0.105263  0.105263  0.105263  0.000000   \n",
       "a  0.105263  0.000000  0.105263  0.000000  0.000000  0.000000  0.105263   \n",
       "ɶ  0.000000  0.105263  0.000000  0.105263  0.105263  0.105263  0.000000   \n",
       "ɑ  0.105263  0.000000  0.105263  0.000000  0.000000  0.000000  0.105263   \n",
       "œ  0.105263  0.000000  0.105263  0.000000  0.000000  0.000000  0.105263   \n",
       "\n",
       "          o         ɤ         ɘ    ...            ɰ        ɰ̠         w  \\\n",
       "ɒ  0.000000  0.105263  0.105263    ...     0.157895  0.157895  0.052632   \n",
       "a  0.105263  0.000000  0.000000    ...     0.052632  0.052632  0.157895   \n",
       "ɶ  0.000000  0.105263  0.105263    ...     0.157895  0.157895  0.052632   \n",
       "ɑ  0.105263  0.000000  0.000000    ...     0.052632  0.052632  0.157895   \n",
       "œ  0.105263  0.000000  0.000000    ...     0.052632  0.052632  0.157895   \n",
       "\n",
       "          ɥ         j     ɹ         ʋ         ʍ         ɦ         h  \n",
       "ɒ  0.052632  0.157895  0.44  0.210526  0.333333  0.428571  0.476190  \n",
       "a  0.157895  0.052632  0.36  0.210526  0.428571  0.333333  0.380952  \n",
       "ɶ  0.052632  0.157895  0.44  0.210526  0.333333  0.428571  0.476190  \n",
       "ɑ  0.157895  0.052632  0.36  0.210526  0.428571  0.333333  0.380952  \n",
       "œ  0.157895  0.052632  0.36  0.210526  0.428571  0.333333  0.380952  \n",
       "\n",
       "[5 rows x 141 columns]"
      ]
     },
     "execution_count": 331,
     "metadata": {},
     "output_type": "execute_result"
    }
   ],
   "source": [
    "ls_dist = ls_dist_matrix(phones, data)\n",
    "ls_dist.head()"
   ]
  },
  {
   "cell_type": "markdown",
   "metadata": {},
   "source": [
    "# all together"
   ]
  },
  {
   "cell_type": "code",
   "execution_count": 2,
   "metadata": {},
   "outputs": [],
   "source": [
    "reg = 'ɡ̠ɣ̠|t̠ɬ̠|k̟x̟|g̟ɣ̟|ŋ̟.1|d̠ɮ̠|k̠x̠|d͡ʑ|lò|kp|ɡb|pt|bd|dʒ|dz|dɮ|tʃ|ts|tɬ|ʈʂ|ɖʐ|pf|bv|pɸ|bβ|tθ|dð|cç|ɟʝ|kx|ɡɣ|qχ|ɢʀ|ts.1|tɬ.1|dz.1|dɮ.1|œ.1|ʟ̠|ŋ̟|ʟ̟|ɣ̟|x̟|k̟|ɡ̟|ɣ̠|x̠|k̠|ɡ̠|ɰ̠|ɒ|a|ɶ|ɑ|œ|Ã|ɔ|o|ɤ|ɘ|ə|e|ɞ|ø|ɛ|ɵ|ɯ|u|ʊ|ɨ|ʉ|y|i|ʏ|ɪ|ɴ|ʀ|ɲ|ʎ|ŋ|ʟ|ɳ|ʙ|ɭ|ä|ɻ|ɽ|r|n|m|l|ɾ|ɱ|ʔ|ħ|ʕ|ʁ|q|χ|ɢ|ɕ|ɟ|ʝ|c|ç|tɕ|ɣ|x|k|ɡ|ʑ|ʈ|ɖ|ɬ|ʐ|ɸ|ʂ|ʒ|z|v|t|ʃ|s|p|f|d|b|θ|ɮ|ð|β|ɧ|ɰ|w|ɥ|j|ɹ|ʋ|ʍ|ɦ|h'\n",
    "diacritics = ['˞', 'ˤ', 'ˠ', 'ʱ', 'ʰ', 'ʴ', 'ʼ', 'ˑ', 'ː', ':', '̤', '̪', '̰', '̺', '̼', '̻', '̚', '̟', '̠', '̈', '̴', '̽', '̝', '̞', '̘', '̙', '̆', '̋', '́', '̄', '̀', '̏'] \n",
    "f_changed = ['_аффрик_', '_глух', '_звонк', '_огуб', '_слог', '_неслог']\n",
    "f_real = ['', '-voice', '+voice', '+round', '+sylabic', '-sylabic']\n",
    "\n",
    "\n",
    "non_ls_dist = pd.read_csv('/Users/Stoneberry/Desktop/курсач/4/dist_matrix.csv', sep=';')\n",
    "non_ls_dist = non_ls_dist.set_index('Unnamed: 0')\n",
    "non_ls_dist.index = non_ls_dist.columns\n",
    "ftable = pd.read_csv('data.csv')\n",
    "ftable = ftable.set_index('Unnamed: 0')"
   ]
  },
  {
   "cell_type": "code",
   "execution_count": null,
   "metadata": {},
   "outputs": [],
   "source": []
  },
  {
   "cell_type": "code",
   "execution_count": 216,
   "metadata": {},
   "outputs": [],
   "source": [
    "vowels = 'ɒ|a|ɶ|ɑ|œ|Ã|ɔ|o|ɤ|ɘ|œ|ə|e|ɞ|ø|ɛ|ɵ|ɯ|u|ʊ|ɨ|ʉ|y|i|ʏ|ɪ)'\n",
    "vow_d = '̩|̯|̃|'\n",
    "vow_reg = vowels + '(?:' + vow_d + ')?'\n",
    "\n",
    "\n",
    "cons = 'ɡ̠ɣ̠|t̠ɬ̠|k̟x̟|g̟ɣ̟|ŋ̟.1|d̠ɮ̠|k̠x̠|d͡ʑ|lò|kp|ɡb|pt|bd|dʒ|dz|dɮ|tʃ|ts|tɬ|ʈʂ|ɖʐ|pf|bv|pɸ|bβ|tθ|dð|cç|ɟʝ|kx|ɡɣ|qχ|ɢʀ|ts.1|tɬ.1|dz.1|dɮ.1|œ.1|ʟ̠|ŋ̟|ʟ̟|ɣ̟|x̟|k̟|ɡ̟|ɣ̠|x̠|k̠|ɡ̠|ɰ̠|ɴ|ʀ|ɲ|ʎ|ŋ|ʟ|ɳ|ʙ|ɭ|ä|ɻ|ɽ|r|n|m|l|ɾ|ɱ|ʔ|ħ|ʕ|ʁ|q|χ|ɢ|ɕ|ɟ|ʝ|c|ç|tɕ|ɣ|x|k|ɡ|ʑ|ʈ|ɖ|ɬ|ʐ|ɸ|ʂ|ʒ|z|v|t|ʃ|s|p|f|d|b|θ|ɮ|ð|β|ɧ|ɰ|w|ɥ|j|ɹ|ʋ|ʍ|ɦ|h)'\n",
    "cons_reg = cons +'(?:' + '͡'+ '(?:'+ cons + '|͜'+ '(?:' + cons + '|̥|̊|̬|̹|̜|ⁿ|ʲ|ʷ|'+ ')?'"
   ]
  },
  {
   "cell_type": "code",
   "execution_count": null,
   "metadata": {},
   "outputs": [],
   "source": []
  },
  {
   "cell_type": "code",
   "execution_count": 48,
   "metadata": {},
   "outputs": [],
   "source": [
    "def find_stress_vow(word, phone):\n",
    "        \n",
    "    '''\n",
    "     Ищет ударные гласный и дифтонги\n",
    "    '''\n",
    "    r_stress = '_[1-4]'\n",
    "    f = re.findall(r_stress, word)\n",
    "    st_reg = ''\n",
    "        \n",
    "    for i in f:\n",
    "        st_reg += ('.'*int(i[-1])) + i + '|'\n",
    "    return st_reg"
   ]
  },
  {
   "cell_type": "code",
   "execution_count": 43,
   "metadata": {},
   "outputs": [
    {
     "data": {
      "text/plain": [
       "'.._2|'"
      ]
     },
     "execution_count": 43,
     "metadata": {},
     "output_type": "execute_result"
    }
   ],
   "source": [
    "find_stress_vow('lɒ_2vtʷ')"
   ]
  },
  {
   "cell_type": "code",
   "execution_count": 36,
   "metadata": {},
   "outputs": [],
   "source": [
    "ch = '(?:_аффрик_.|_звонк|_глух|_огуб|ⁿ|ʲ|ʷ|_слог|)?'"
   ]
  },
  {
   "cell_type": "code",
   "execution_count": 37,
   "metadata": {},
   "outputs": [],
   "source": [
    "d = '(?:˞|ˤ|ˠ|ʱ|ʰ|ʴ|ʼ|ˑ|ː|:|̤|̪|̰|̺|̼|̻|̚|̟|̠|̈|̴|̽|̝|̞|̘|̙|̆|̋|́|̄|̀|̏)?'"
   ]
  },
  {
   "cell_type": "code",
   "execution_count": 38,
   "metadata": {},
   "outputs": [
    {
     "data": {
      "text/plain": [
       "['l', 'ɒ', 'v', 'tʷ']"
      ]
     },
     "execution_count": 38,
     "metadata": {},
     "output_type": "execute_result"
    }
   ],
   "source": [
    "re.findall(phone + d + ch, 'lɒ_1vtʷ')"
   ]
  },
  {
   "cell_type": "code",
   "execution_count": 362,
   "metadata": {},
   "outputs": [],
   "source": [
    " class PhoneticAlgorithmIPA:\n",
    "    \n",
    "    def __init__(self, data_path, data_delimiter, problem_type):\n",
    "        \n",
    "        global non_ls_dist, ftable\n",
    "        \n",
    "        self.feature_table = ftable\n",
    "        self.phones = self.data_splitter(data_path, data_delimiter)\n",
    "        \n",
    "        if problem_type == 'LS':\n",
    "            self.dist_matrix = self.ls_dist_matrix(self.phones, self.feature_table)\n",
    "       \n",
    "        if problem_type == 'Non_LS':\n",
    "            self.dist_matrix = non_ls_dist\n",
    "        \n",
    "        else: raise ValueError('Problem type can be either LS or Non_LS.')\n",
    "\n",
    "        \n",
    "    def check_phone(self, res):\n",
    "        \n",
    "        global diacritics, f_changed, f_real\n",
    "        \n",
    "        for index, phone in enumerate(res):\n",
    "               \n",
    "            if phone in ('ˌ', 'ˈ', \"'\"):\n",
    "                raise ValueError('The stress should be presented this way: V_1')\n",
    "            \n",
    "            elif phone in diacritics: continue\n",
    "                \n",
    "            elif phone in self.feature_table.index:\n",
    "                transc.append(phone)\n",
    "                \n",
    "            elif 'ʲ' in phone:\n",
    "                1\n",
    "            \n",
    "            elif 'ʷ' in phone:\n",
    "                1\n",
    "            \n",
    "            elif 'ⁿ' in phone:\n",
    "                1\n",
    "            \n",
    "            elif '_' in phone:\n",
    "                \n",
    "                try:\n",
    "                    parts = phone.split('_')\n",
    "                    \n",
    "                    f_changed.index()\n",
    "                \n",
    "                # ('_аффрик_', '_глух', '_звонк', '_огуб', '_слог', '_неслог')\n",
    "                except: 1\n",
    "        \n",
    "            else:\n",
    "                raise ValueError('{} consists of irrelevant characters ({}).'.format(''.join(res), phone))\n",
    "\n",
    "        return transc\n",
    "    \n",
    "    \n",
    "    \n",
    "    def sound_dist(self, a, b):\n",
    "            \n",
    "        a = pd.get_dummies(a) \n",
    "        b = pd.get_dummies(b)\n",
    "            \n",
    "        together = a + b\n",
    "        similar = 0\n",
    "        uncommon = 0\n",
    "        common = 0\n",
    "\n",
    "        if '+' in together and 2 in together['+'].value_counts():\n",
    "            similar += together['+'].value_counts()[2]\n",
    "\n",
    "        if '-' in together and 2 in together['-'].value_counts():\n",
    "            similar += together['-'].value_counts()[2]\n",
    "        \n",
    "        if 'None' in together:\n",
    "            None_values = together['None'].value_counts()\n",
    "        \n",
    "        if 1 in None_values:\n",
    "            uncommon = None_values[1]\n",
    "        \n",
    "        if 0 in None_values:\n",
    "            common = None_values[0]\n",
    "        \n",
    "        dist = 1 - (similar / (common + (uncommon * 2)))\n",
    "        return dist\n",
    "\n",
    "    \n",
    "    def vowel_trans(self, a):\n",
    "        \n",
    "        if '̃' in a:  # nasal +\n",
    "            a = copy.copy(self.feature_table.loc[a])\n",
    "            a['nasal'] = '+'\n",
    "        \n",
    "        if '̩' in a:  # sylabic\n",
    "            a = copy.copy(self.feature_table.loc[a])\n",
    "            a['syllabic'] = '+'\n",
    "        \n",
    "        if '̯' in a:  # non sylabic\n",
    "            a = copy.copy(self.feature_table.loc[a])\n",
    "            a['syllabic'] = '-'\n",
    "        \n",
    "        return a\n",
    "         \n",
    "    \n",
    "    \n",
    "    def check_phone(self, a):\n",
    "        \n",
    "        real = re.findall(reg, a)\n",
    "        \n",
    "        if '͡' in a or '͜' in a:  # aff\n",
    "            if a != 'd͡ʑ':\n",
    "                a = [copy.copy(self.feature_table.loc[i]) for i in real]\n",
    "            return a\n",
    "    \n",
    "        if '_' in a:\n",
    "            a = [self.vowel_trans(i) for i in real]\n",
    "\n",
    "        if 'ʲ' in a:  # мягкий (back +)\n",
    "            a = copy.copy(self.feature_table.loc[real[0]])\n",
    "            a['back'] = '+'\n",
    "            \n",
    "        if 'ʷ' in a:  # Labalized (round + )\n",
    "            a = copy.copy(self.feature_table.loc[real[0]])\n",
    "            a['round'] = '+'\n",
    "            \n",
    "        if 'ⁿ' in a or '̃' in a:  # nasal +\n",
    "            a = copy.copy(self.feature_table.loc[real[0]])\n",
    "            a['nasal'] = '+'\n",
    "            \n",
    "        if '̥' in a or '̊' in a:  # voiceless\n",
    "            a = copy.copy(self.feature_table.loc[real[0]])\n",
    "            a['voice'] = '-'\n",
    "            \n",
    "        if '̬' in a:  # voiced\n",
    "            a = copy.copy(self.feature_table.loc[real[0]])\n",
    "            a['voice'] = '+'\n",
    "            \n",
    "        if '̹' in a or '̜' in a:  # rounded \n",
    "            a = copy.copy(self.feature_table.loc[real[0]])\n",
    "            a['round'] = '+'\n",
    "        \n",
    "        a = self.vowel_trans(a)\n",
    "        \n",
    "        return a\n",
    "    \n",
    "    \n",
    "    def comparison(self, a, b):\n",
    "        \n",
    "        if type(a) == str and type(b) == str:\n",
    "            res = self.dist_matrix[a][b]\n",
    "                \n",
    "        elif type(a) != str and type(b) != str:\n",
    "            res = self.sound_dist(self.feature_table.loc[a], self.feature_table.loc[b])\n",
    "            \n",
    "        elif type(a) != str:\n",
    "            res = self.sound_dist(a, self.feature_table.loc[b])\n",
    "    \n",
    "        elif type(b) != str:\n",
    "            res = self.sound_dist(self.feature_table.loc[a], b)\n",
    "        \n",
    "        return res\n",
    "        \n",
    "        \n",
    "    def dift_affr(self, a, b):\n",
    "        \n",
    "        res = []\n",
    "        \n",
    "        if len(a) == len(b):  # ai vs ae\n",
    "            for index, item in enumerate(a):\n",
    "                res.append(self.comparison(item, b[index]))\n",
    "            return sum(res)\n",
    "        \n",
    "        \n",
    "        for item in a:  # aie vs ae\n",
    "            for itm in b:\n",
    "                res.append(self.comparison(item, itm))\n",
    "   \n",
    "        return min(res) + abs(len(a) - len(b))\n",
    "    \n",
    "    \n",
    "    def phone_dist(self, a, b):\n",
    "        \n",
    "        print(a, b)\n",
    "        \n",
    "        a = self.check_phone(a)\n",
    "        b = self.check_phone(b)\n",
    "        \n",
    "        if type(a) == list and type(b) == list:\n",
    "            res = self.dift_affr(a, b)\n",
    "          \n",
    "        elif type(a) == list:\n",
    "            res = self.dift_affr(a, [b])\n",
    "            \n",
    "        elif type(b) == list:\n",
    "            res = self.dift_affr([a], b)\n",
    "        \n",
    "        else:\n",
    "            res = self.comparison(a, b)\n",
    "        \n",
    "        return res\n",
    "        \n",
    "        \n",
    "    def phone_splitter(self, word):\n",
    "    \n",
    "        '''\n",
    "            + - advanced\n",
    "            _ - retracted\n",
    "            tʲ - мягкий (back +)\n",
    "            tʷ - Labalized (round + )\n",
    "            dⁿ - nasal +\n",
    "            _1 - stress + \n",
    "            tˠ - Velarized\n",
    "            t̬ - voiced\n",
    "            d̥ - voiceless\n",
    "            ŋ̊ - voiceless\n",
    "            ɔ̹ - rounded \n",
    "            ɔ̜ - rounded \n",
    "            m̩ - sylabic\n",
    "            e̯ - non sylabic\n",
    "            x͜x \n",
    "        '''\n",
    "    \n",
    "        global vow_reg, cons_reg\n",
    "    \n",
    "        def find_stress_vow(word, phone):\n",
    "        \n",
    "            '''\n",
    "            Ищет ударные гласный и дифтонги\n",
    "            '''\n",
    "            r_stress = '_[1-4]'\n",
    "            f = re.findall(r_stress, word)\n",
    "            st_reg = ''\n",
    "        \n",
    "            for i in f:\n",
    "                st_reg += (phone*int(i[-1])) + i \n",
    "            return st_reg\n",
    "   \n",
    "        word = re.sub('˞|ˤ|ˠ|ʱ|ʰ|ʴ|ʼ|ˑ|ː|:|̤|̪|̰|̺|̼|̻|̚|̟|̠|̈|̴|̽|̝|̞|̘|̙|̆|̋|́|̄|̀|̏', '', word)\n",
    "        r_stress = find_stress_vow(word, vow_reg)    # ._1\n",
    "\n",
    "        irrelevant = '(?!' + reg + '|' + vow_d + '͡|͜|̥|̊|̬|̹|̜|ⁿ|ʲ|ʷ|(?:_|[1-9])' + ').'\n",
    "        res = re.findall(irrelevant , word)\n",
    "        if res != []:\n",
    "            raise ValueError('\"{}\" contains irrelevant symbols: {}'.format(word, ''.join(res)))\n",
    "\n",
    "        if r_stress == '':  # вызвать ошибку???\n",
    "            all_ = '(?:' + vow_reg  + '|(?:' + cons_reg\n",
    "        else:\n",
    "            all_ = '(?:' + r_stress  + '|(?:' + vow_reg + '|(?:' + cons_reg\n",
    "            \n",
    "        return re.findall(all_ , word)\n",
    "        \n",
    "        \n",
    "        \n",
    "    def all_phones(self, arr):\n",
    "\n",
    "        phones = []\n",
    "\n",
    "        for line in arr:\n",
    "            \n",
    "            ph_line = []\n",
    "            \n",
    "            if len(line) != 2:\n",
    "                raise ValueError('There have to be 2 columns in a line. Check your delimiter.')\n",
    "\n",
    "            for word in line:\n",
    "                if word == '':\n",
    "                     raise ValueError('All columns have to be filled.')\n",
    "                ph_line.append(self.phone_splitter(word))\n",
    "            phones.append(ph_line)\n",
    "\n",
    "        return phones\n",
    "    \n",
    "        \n",
    "        \n",
    "    def data_splitter(self, data_path, data_delimiter):\n",
    "            \n",
    "        with open(data_path, 'r') as csvfile:\n",
    "            reader = csv.reader(csvfile, delimiter=data_delimiter)\n",
    "            data = list(reader)\n",
    " \n",
    "        phones = self.all_phones(data)\n",
    "            \n",
    "        return phones\n",
    "        \n",
    "        \n",
    "    def rebuild_dist_matrix(self):\n",
    "        return\n",
    "        \n",
    "        \n",
    "        \n",
    "    \n",
    "    def lev_distance(self, a, b):\n",
    "    \n",
    "        # Первыми - строчки \n",
    "        # столбики - слово b\n",
    "    \n",
    "        dis = np.zeros((len(a) + 1, len(b) + 1))\n",
    "        i = 0\n",
    "        row = 0\n",
    "        col = 0\n",
    "\n",
    "        while i < dis.size:\n",
    "\n",
    "            if row == 0:\n",
    "                if col != 0:\n",
    "                    dis[row, col] = dis[row, col-1] + 1\n",
    "\n",
    "            elif col == 0:\n",
    "                if row != 0:\n",
    "                    dis[row, col] = dis[row - 1, col] + 1\n",
    "        \n",
    "            elif row > 1 and col > 1 and a[row-1] == b[col-2] and a[row-2] == b[col-1]:\n",
    "                dis[row, col] = dis[row - 3][col - 3] + 1\n",
    "        \n",
    "            else: #  self.dist_matrix[a[row-1]][b[col-1]]\n",
    "                dis[row, col] = np.min([dis[row, col - 1] + 1,  # левый \n",
    "                                    dis[row - 1, col - 1] + self.phone_dist(a[row-1], b[col-1]), # диаг               \n",
    "                                    dis[row - 1, col] + 1]) # верхний\n",
    "        \n",
    "            col += 1\n",
    "            i += 1  \n",
    "            if col == len(b) + 1:\n",
    "                col = 0\n",
    "                row += 1\n",
    "  \n",
    "        return dis[len(a), len(b)]\n",
    "        \n",
    "        \n",
    "        \n",
    "        \n",
    "\n",
    "        \n",
    "        \n",
    "        \n",
    "\n",
    "    def non_ls_dist_matrix(self, data):\n",
    "            \n",
    "        col_ind = data.index.tolist()\n",
    "        n_col = len(col_ind)\n",
    "        dist_matrix = pd.DataFrame(np.zeros((n_col, n_col)),\n",
    "                               index=col_ind, columns=col_ind)\n",
    "        for i in itertools.combinations_with_replacement(data.index, 2):\n",
    "            result = self.sound_dist(i[0], i[1], data)\n",
    "            dist_matrix[i[0]][i[1]] = result\n",
    "            dist_matrix[i[1]][i[0]] = result\n",
    "        return dist_matrix\n",
    "        \n",
    "        \n",
    "            \n",
    "            \n",
    "            \n",
    "    def irrelevant_features(self, phones, data):\n",
    "        '''\n",
    "        Надо ли удалять звуки, которые не встретились?\n",
    "        \n",
    "        ПЕРЕДЕЛАТЬ В ЗАВИСИМОСТИ ОТ ТОГО, КАК ВЫГЛЯДЯТ PHONES\n",
    "        \n",
    "        '''\n",
    "        features = set()\n",
    "        for index, phone in enumerate(set(phones)):\n",
    "               \n",
    "            if phone not in ('<\\n>', '<eos>'):\n",
    "                res = set(data.loc[phone].loc[data.loc[phone] == 'None'].keys())\n",
    "                if index == 0: features = res\n",
    "                else: features &= res\n",
    "                    \n",
    "        return features\n",
    "        \n",
    "        \n",
    "        \n",
    "        \n",
    "    def ls_dist_matrix(self, phones, data):\n",
    "        irr_f = self.irrelevant_features(phones, data)\n",
    "        data = data.drop(columns=irr_f)\n",
    "        dist_matrix = non_ls_dist_matrix(data)\n",
    "        return dist_matrix \n",
    "    \n",
    "    \n",
    "    \n",
    "    def phonetic_distance(self):\n",
    "        \n",
    "        res = []\n",
    "        \n",
    "        for pair in self.phones:\n",
    "            print(pair[0], pair[1])\n",
    "            score = self.lev_distance(pair[0], pair[1])\n",
    "            print(score)\n",
    "            res.append(score)\n",
    "        \n",
    "        return res\n",
    "        "
   ]
  },
  {
   "cell_type": "code",
   "execution_count": 363,
   "metadata": {},
   "outputs": [
    {
     "name": "stdout",
     "output_type": "stream",
     "text": [
      "['m', 'ẽ_1', 'i', 't'] ['h', 'e', 'i', 't', 'pʷ']\n",
      "m h\n",
      "m e\n",
      "m i\n",
      "m t\n",
      "m pʷ\n",
      "ẽ_1 h\n",
      "ẽ_1 e\n",
      "ẽ_1 i\n",
      "ẽ_1 t\n",
      "ẽ_1 pʷ\n",
      "i h\n",
      "i e\n",
      "i i\n",
      "i t\n",
      "i pʷ\n",
      "t h\n",
      "t e\n",
      "t i\n",
      "t t\n",
      "t pʷ\n",
      "1.4285714285714286\n",
      "['l', 'ɒ_1', 'v', 'tʷ'] ['p', 'r', 'd͡ʑ', 'ə', 'k', 't']\n",
      "l p\n",
      "l r\n",
      "l d͡ʑ\n",
      "l ə\n",
      "l k\n",
      "l t\n",
      "ɒ_1 p\n",
      "ɒ_1 r\n",
      "ɒ_1 d͡ʑ\n",
      "ɒ_1 ə\n",
      "ɒ_1 k\n",
      "ɒ_1 t\n",
      "v p\n",
      "v r\n",
      "v d͡ʑ\n",
      "v ə\n",
      "v k\n",
      "v t\n",
      "tʷ p\n",
      "tʷ r\n",
      "tʷ d͡ʑ\n",
      "tʷ ə\n",
      "tʷ k\n",
      "tʷ t\n",
      "2.7910540184453225\n"
     ]
    },
    {
     "data": {
      "text/plain": [
       "[1.4285714285714286, 2.7910540184453225]"
      ]
     },
     "execution_count": 363,
     "metadata": {},
     "output_type": "execute_result"
    }
   ],
   "source": [
    "ipa = PhoneticAlgorithmIPA('/Users/Stoneberry/Desktop/курсач/4/test.csv', ';', 'Non_LS')\n",
    "\n",
    "\n",
    "ipa.phonetic_distance()"
   ]
  },
  {
   "cell_type": "code",
   "execution_count": 357,
   "metadata": {},
   "outputs": [
    {
     "name": "stdout",
     "output_type": "stream",
     "text": [
      "syllabic              +\n",
      "stress                -\n",
      "long                  -\n",
      "consonantal           -\n",
      "sonorant              +\n",
      "continuant            +\n",
      "delayed release    None\n",
      "approximant           +\n",
      "tap                   -\n",
      "trill                 -\n",
      "nasal                 -\n",
      "voice                 +\n",
      "spread gl             -\n",
      "constr gl             -\n",
      "LABIAL                -\n",
      "round                 -\n",
      "labiodental           -\n",
      "CORONAL               -\n",
      "anterior           None\n",
      "distributed        None\n",
      "strident           None\n",
      "lateral               -\n",
      "DORSAL                +\n",
      "high                  -\n",
      "low                   +\n",
      "front                 -\n",
      "back                  +\n",
      "tense              None\n",
      "Name: a, dtype: object\n",
      "====\n"
     ]
    }
   ],
   "source": [
    "for i in [ipa.feature_table.loc['a']]:\n",
    "    print(i)\n",
    "    print('====')"
   ]
  },
  {
   "cell_type": "code",
   "execution_count": 116,
   "metadata": {},
   "outputs": [
    {
     "data": {
      "text/plain": [
       "['a',\n",
       " '̤',\n",
       " 'd',\n",
       " '̪',\n",
       " 'a',\n",
       " '̰',\n",
       " 'd',\n",
       " '̺',\n",
       " 'd',\n",
       " '̼',\n",
       " 'd',\n",
       " '̻',\n",
       " 't',\n",
       " '̚',\n",
       " 'u',\n",
       " '̟',\n",
       " 'e',\n",
       " '̠',\n",
       " 'e',\n",
       " '̈',\n",
       " 'l',\n",
       " '̴',\n",
       " 'ɫ',\n",
       " 'e',\n",
       " '̽',\n",
       " 'e',\n",
       " '̝',\n",
       " 'β',\n",
       " '̞',\n",
       " 'e',\n",
       " '̘',\n",
       " 'e',\n",
       " '̙',\n",
       " 'e',\n",
       " '̆',\n",
       " 'e',\n",
       " '̋',\n",
       " 'e',\n",
       " '́',\n",
       " 'e',\n",
       " '̄',\n",
       " 'e',\n",
       " '̀',\n",
       " 'e',\n",
       " '̏']"
      ]
     },
     "execution_count": 116,
     "metadata": {},
     "output_type": "execute_result"
    }
   ],
   "source": [
    "list('a̤d̪a̰d̺d̼d̻t̚u̟e̠ël̴ɫe̽e̝β̞e̘e̙ĕe̋éēèȅ')"
   ]
  },
  {
   "cell_type": "code",
   "execution_count": null,
   "metadata": {},
   "outputs": [],
   "source": [
    "d̪a̰d̺d̼d̻t̚u̟e̠ël̴e̽e̝β̞e̘e̙ĕe̋éēèȅa̤"
   ]
  },
  {
   "cell_type": "code",
   "execution_count": 118,
   "metadata": {},
   "outputs": [
    {
     "data": {
      "text/plain": [
       "'̴̤̪̰̺̼̻̟̠̝̞̘̙̈̽̆̋́̄̀̏̚'"
      ]
     },
     "execution_count": 118,
     "metadata": {},
     "output_type": "execute_result"
    }
   ],
   "source": [
    "ẽ'['̤',  '̪',  '̰',  '̺',  '̼',  '̻',  '̚',  '̟',  '̠',  '̈',  '̴',   '̽',  '̝',  '̞',  '̘',  '̙',  '̆',  '̋',  '́',  '̄',  '̀',  '̏'])"
   ]
  },
  {
   "cell_type": "code",
   "execution_count": 124,
   "metadata": {},
   "outputs": [
    {
     "ename": "ValueError",
     "evalue": "'a' is not in list",
     "output_type": "error",
     "traceback": [
      "\u001b[0;31m---------------------------------------------------------------------------\u001b[0m",
      "\u001b[0;31mValueError\u001b[0m                                Traceback (most recent call last)",
      "\u001b[0;32m<ipython-input-124-b2072b65d635>\u001b[0m in \u001b[0;36m<module>\u001b[0;34m\u001b[0m\n\u001b[0;32m----> 1\u001b[0;31m \u001b[0mlist\u001b[0m\u001b[0;34m(\u001b[0m\u001b[0;34m'˞ˤˠʱʰʴʼˑː:'\u001b[0m\u001b[0;34m)\u001b[0m\u001b[0;34m.\u001b[0m\u001b[0mindex\u001b[0m\u001b[0;34m(\u001b[0m\u001b[0;34m'a'\u001b[0m\u001b[0;34m)\u001b[0m\u001b[0;34m\u001b[0m\u001b[0m\n\u001b[0m",
      "\u001b[0;31mValueError\u001b[0m: 'a' is not in list"
     ]
    }
   ],
   "source": [
    "list('˞ˤˠʱʰʴʼˑː:').index"
   ]
  },
  {
   "cell_type": "code",
   "execution_count": 349,
   "metadata": {},
   "outputs": [
    {
     "data": {
      "text/plain": [
       "['e', 'a']"
      ]
     },
     "execution_count": 349,
     "metadata": {},
     "output_type": "execute_result"
    }
   ],
   "source": [
    "re.findall(reg, 'e̯a_2')"
   ]
  },
  {
   "cell_type": "code",
   "execution_count": 44,
   "metadata": {},
   "outputs": [
    {
     "data": {
      "text/plain": [
       "['e', '̃']"
      ]
     },
     "execution_count": 44,
     "metadata": {},
     "output_type": "execute_result"
    }
   ],
   "source": [
    "list('ẽ')"
   ]
  },
  {
   "cell_type": "code",
   "execution_count": null,
   "metadata": {},
   "outputs": [],
   "source": [
    "word = re.sub('͡|͜', '_аффрик_', word)\n",
    "word = re.sub('̥|̊', '_глух', word)\n",
    "word = re.sub('̬', '_звонк', word)\n",
    "word = re.sub('̹|̜', '_огуб', word)\n",
    "word = re.sub('̩', '_слог', word)\n",
    "word = re.sub('̯', '_неслог', word)\n",
    "word = re.sub('̃', '_нос', word)"
   ]
  },
  {
   "cell_type": "code",
   "execution_count": 47,
   "metadata": {},
   "outputs": [
    {
     "data": {
      "text/plain": [
       "'̹|̜'"
      ]
     },
     "execution_count": 47,
     "metadata": {},
     "output_type": "execute_result"
    }
   ],
   "source": [
    "def find_stress_vow(word, phone):\n",
    "        \n",
    "            '''\n",
    "            Ищет ударные гласный и дифтонги\n",
    "            '''\n",
    "            r_stress = '_[1-4]'\n",
    "            f = re.findall(r_stress, word)\n",
    "            st_reg = ''\n",
    "        \n",
    "            for i in f:\n",
    "                st_reg += (phone*int(i[-1])) + i + '|'\n",
    "            return st_reg\n",
    " \n"
   ]
  },
  {
   "cell_type": "code",
   "execution_count": 51,
   "metadata": {},
   "outputs": [
    {
     "data": {
      "text/plain": [
       "['', '̃_1', '']"
      ]
     },
     "execution_count": 51,
     "metadata": {},
     "output_type": "execute_result"
    }
   ],
   "source": [
    "phone = '(?:' + reg + ')'\n",
    "v = find_stress_vow('ẽ_1', phone)\n",
    "re.findall(v, 'ẽ_1')"
   ]
  },
  {
   "cell_type": "code",
   "execution_count": 60,
   "metadata": {},
   "outputs": [
    {
     "data": {
      "text/plain": [
       "'ɡ̠ɣ̠|t̠ɬ̠|k̟x̟|g̟ɣ̟|ŋ̟.1|d̠ɮ̠|k̠x̠|d͡ʑ|lò|kp|ɡb|pt|bd|dʒ|dz|dɮ|tʃ|ts|tɬ|ʈʂ|ɖʐ|pf|bv|pɸ|bβ|tθ|dð|cç|ɟʝ|kx|ɡɣ|qχ|ɢʀ|ts.1|tɬ.1|dz.1|dɮ.1|œ.1|ʟ̠|ŋ̟|ʟ̟|ɣ̟|x̟|k̟|ɡ̟|ɣ̠|x̠|k̠|ɡ̠|ɰ̠|ɒ|a|ɶ|ɑ|œ|Ã|ɔ|o|ɤ|ɘ|ə|e|ɞ|ø|ɛ|ɵ|ɯ|u|ʊ|ɨ|ʉ|y|i|ʏ|ɪ|ɴ|ʀ|ɲ|ʎ|ŋ|ʟ|ɳ|ʙ|ɭ|ä|ɻ|ɽ|r|n|m|l|ɾ|ɱ|ʔ|ħ|ʕ|ʁ|q|χ|ɢ|ɕ|ɟ|ʝ|c|ç|tɕ|ɣ|x|k|ɡ|ʑ|ʈ|ɖ|ɬ|ʐ|ɸ|ʂ|ʒ|z|v|t|ʃ|s|p|f|d|b|θ|ɮ|ð|β|ɧ|ɰ|w|ɥ|j|ɹ|ʋ|ʍ|ɦ|h'"
      ]
     },
     "execution_count": 60,
     "metadata": {},
     "output_type": "execute_result"
    }
   ],
   "source": [
    "reg"
   ]
  },
  {
   "cell_type": "code",
   "execution_count": 77,
   "metadata": {},
   "outputs": [],
   "source": [
    "def find_stress_vow(word, phone):\n",
    "        \n",
    "    '''\n",
    "     Ищет ударные гласный и дифтонги\n",
    "    '''\n",
    "    r_stress = '_[1-4]'\n",
    "    f = re.findall(r_stress, word)\n",
    "    st_reg = ''\n",
    "        \n",
    "    for i in f:\n",
    "        st_reg += (phone*int(i[-1])) + i \n",
    "    return st_reg"
   ]
  },
  {
   "cell_type": "code",
   "execution_count": 107,
   "metadata": {},
   "outputs": [
    {
     "data": {
      "text/plain": [
       "['a_1']"
      ]
     },
     "execution_count": 107,
     "metadata": {},
     "output_type": "execute_result"
    }
   ],
   "source": [
    "vowels = '(?:ɒ|a|ɶ|ɑ|œ|Ã|ɔ|o|ɤ|ɘ|œ|ə|e|ɞ|ø|ɛ|ɵ|ɯ|u|ʊ|ɨ|ʉ|y|i|ʏ|ɪ)'\n",
    "vow_reg = vowels + '(?:' + '̩|̯|̃' + ')?'\n",
    "\n",
    "\n",
    "v = find_stress_vow('ẽ_1', vow_reg)\n",
    "re.findall(v, 'ẽa_1')"
   ]
  },
  {
   "cell_type": "code",
   "execution_count": 225,
   "metadata": {},
   "outputs": [
    {
     "data": {
      "text/plain": [
       "['l', 'ɒ_1', 'v', 'tʷ']"
      ]
     },
     "execution_count": 225,
     "metadata": {},
     "output_type": "execute_result"
    }
   ],
   "source": [
    "vowels = 'ɒ|a|ɶ|ɑ|œ|Ã|ɔ|o|ɤ|ɘ|œ|ə|e|ɞ|ø|ɛ|ɵ|ɯ|u|ʊ|ɨ|ʉ|y|i|ʏ|ɪ)'\n",
    "vow_d = '̩|̯|̃|'\n",
    "vow_reg = vowels + '(?:' + vow_d + ')?'\n",
    "\n",
    "\n",
    "cons = 'ɡ̠ɣ̠|t̠ɬ̠|k̟x̟|g̟ɣ̟|ŋ̟.1|d̠ɮ̠|k̠x̠|d͡ʑ|lò|kp|ɡb|pt|bd|dʒ|dz|dɮ|tʃ|ts|tɬ|ʈʂ|ɖʐ|pf|bv|pɸ|bβ|tθ|dð|cç|ɟʝ|kx|ɡɣ|qχ|ɢʀ|ts.1|tɬ.1|dz.1|dɮ.1|œ.1|ʟ̠|ŋ̟|ʟ̟|ɣ̟|x̟|k̟|ɡ̟|ɣ̠|x̠|k̠|ɡ̠|ɰ̠|ɴ|ʀ|ɲ|ʎ|ŋ|ʟ|ɳ|ʙ|ɭ|ä|ɻ|ɽ|r|n|m|l|ɾ|ɱ|ʔ|ħ|ʕ|ʁ|q|χ|ɢ|ɕ|ɟ|ʝ|c|ç|tɕ|ɣ|x|k|ɡ|ʑ|ʈ|ɖ|ɬ|ʐ|ɸ|ʂ|ʒ|z|v|t|ʃ|s|p|f|d|b|θ|ɮ|ð|β|ɧ|ɰ|w|ɥ|j|ɹ|ʋ|ʍ|ɦ|h)'\n",
    "cons_reg = cons +'(?:' + '͡'+ '(?:'+ cons + '|͜'+ '(?:' + cons + '|̥|̊|̬|̹|̜|ⁿ|ʲ|ʷ|'+ ')?'\n",
    "\n",
    "\n",
    "word = 'lɒ_1vtʷ'\n",
    "v = find_stress_vow(word, vow_reg)\n",
    "\n",
    "if v == '':\n",
    "    all_ = '(?:' + vow_reg  + '|(?:' + cons_reg\n",
    "else:\n",
    "    all_ = '(?:' + v  + '|(?:' + vow_reg + '|(?:' + cons_reg\n",
    "\n",
    "    \n",
    "re.findall( all_ , word)"
   ]
  },
  {
   "cell_type": "code",
   "execution_count": 227,
   "metadata": {},
   "outputs": [
    {
     "data": {
      "text/plain": [
       "'ɒ|a|ɶ|ɑ|œ|Ã|ɔ|o|ɤ|ɘ|œ|ə|e|ɞ|ø|ɛ|ɵ|ɯ|u|ʊ|ɨ|ʉ|y|i|ʏ|ɪ)(?:̩|̯|̃|)?_1'"
      ]
     },
     "execution_count": 227,
     "metadata": {},
     "output_type": "execute_result"
    }
   ],
   "source": [
    "v"
   ]
  },
  {
   "cell_type": "code",
   "execution_count": 277,
   "metadata": {},
   "outputs": [
    {
     "data": {
      "text/plain": [
       "['ы', \"'\"]"
      ]
     },
     "execution_count": 277,
     "metadata": {},
     "output_type": "execute_result"
    }
   ],
   "source": [
    "word = \"lɒ_1vtʷы'\"\n",
    "\n",
    "\n",
    " \n",
    "all_ = '(?!' + reg + '|' + vow_d + '͡|͜|̥|̊|̬|̹|̜|ⁿ|ʲ|ʷ|(?:_|[1-9])' + ').'\n",
    "\n",
    "re.findall(all_ , word)"
   ]
  },
  {
   "cell_type": "code",
   "execution_count": 232,
   "metadata": {},
   "outputs": [
    {
     "data": {
      "text/plain": [
       "'(?!_.[1-9]|ɡ̠ɣ̠|t̠ɬ̠|k̟x̟|g̟ɣ̟|ŋ̟.1|d̠ɮ̠|k̠x̠|d͡ʑ|lò|kp|ɡb|pt|bd|dʒ|dz|dɮ|tʃ|ts|tɬ|ʈʂ|ɖʐ|pf|bv|pɸ|bβ|tθ|dð|cç|ɟʝ|kx|ɡɣ|qχ|ɢʀ|ts.1|tɬ.1|dz.1|dɮ.1|œ.1|ʟ̠|ŋ̟|ʟ̟|ɣ̟|x̟|k̟|ɡ̟|ɣ̠|x̠|k̠|ɡ̠|ɰ̠|ɒ|a|ɶ|ɑ|œ|Ã|ɔ|o|ɤ|ɘ|ə|e|ɞ|ø|ɛ|ɵ|ɯ|u|ʊ|ɨ|ʉ|y|i|ʏ|ɪ|ɴ|ʀ|ɲ|ʎ|ŋ|ʟ|ɳ|ʙ|ɭ|ä|ɻ|ɽ|r|n|m|l|ɾ|ɱ|ʔ|ħ|ʕ|ʁ|q|χ|ɢ|ɕ|ɟ|ʝ|c|ç|tɕ|ɣ|x|k|ɡ|ʑ|ʈ|ɖ|ɬ|ʐ|ɸ|ʂ|ʒ|z|v|t|ʃ|s|p|f|d|b|θ|ɮ|ð|β|ɧ|ɰ|w|ɥ|j|ɹ|ʋ|ʍ|ɦ|h|̩|̯|̃|͡|͜|̥|̊|̬|̹|̜|ⁿ|ʲ|ʷ).'"
      ]
     },
     "execution_count": 232,
     "metadata": {},
     "output_type": "execute_result"
    }
   ],
   "source": [
    "all_"
   ]
  },
  {
   "cell_type": "code",
   "execution_count": 204,
   "metadata": {},
   "outputs": [
    {
     "data": {
      "text/plain": [
       "'ɡ̠ɣ̠|t̠ɬ̠|k̟x̟|g̟ɣ̟|ŋ̟.1|d̠ɮ̠|k̠x̠|d͡ʑ|lò|kp|ɡb|pt|bd|dʒ|dz|dɮ|tʃ|ts|tɬ|ʈʂ|ɖʐ|pf|bv|pɸ|bβ|tθ|dð|cç|ɟʝ|kx|ɡɣ|qχ|ɢʀ|ts.1|tɬ.1|dz.1|dɮ.1|œ.1|ʟ̠|ŋ̟|ʟ̟|ɣ̟|x̟|k̟|ɡ̟|ɣ̠|x̠|k̠|ɡ̠|ɰ̠|ɒ|a|ɶ|ɑ|œ|Ã|ɔ|o|ɤ|ɘ|ə|e|ɞ|ø|ɛ|ɵ|ɯ|u|ʊ|ɨ|ʉ|y|i|ʏ|ɪ|ɴ|ʀ|ɲ|ʎ|ŋ|ʟ|ɳ|ʙ|ɭ|ä|ɻ|ɽ|r|n|m|l|ɾ|ɱ|ʔ|ħ|ʕ|ʁ|q|χ|ɢ|ɕ|ɟ|ʝ|c|ç|tɕ|ɣ|x|k|ɡ|ʑ|ʈ|ɖ|ɬ|ʐ|ɸ|ʂ|ʒ|z|v|t|ʃ|s|p|f|d|b|θ|ɮ|ð|β|ɧ|ɰ|w|ɥ|j|ɹ|ʋ|ʍ|ɦ|h'"
      ]
     },
     "execution_count": 204,
     "metadata": {},
     "output_type": "execute_result"
    }
   ],
   "source": [
    "reg"
   ]
  },
  {
   "cell_type": "code",
   "execution_count": null,
   "metadata": {},
   "outputs": [],
   "source": [
    "'(?!'"
   ]
  },
  {
   "cell_type": "code",
   "execution_count": 179,
   "metadata": {},
   "outputs": [
    {
     "data": {
      "text/plain": [
       "['s', 's', 'д']"
      ]
     },
     "execution_count": 179,
     "metadata": {},
     "output_type": "execute_result"
    }
   ],
   "source": [
    "re.findall('(?!ɒ|a|ɶ|ɑ|œ|Ã|ɔ|o|ɤ|ɘ|œ|ə|e|ɞ|ø|ɛ|ɵ|ɯ|u|ʊ|ɨ|ʉ|y|i|ʏ|ɪ)(?:̩|̯|̃)?.', 'asasaaaaд')"
   ]
  },
  {
   "cell_type": "code",
   "execution_count": 180,
   "metadata": {},
   "outputs": [
    {
     "data": {
      "text/plain": [
       "'ɒ|a|ɶ|ɑ|œ|Ã|ɔ|o|ɤ|ɘ|œ|ə|e|ɞ|ø|ɛ|ɵ|ɯ|u|ʊ|ɨ|ʉ|y|i|ʏ|ɪ)(?:̩|̯|̃)?_1'"
      ]
     },
     "execution_count": 180,
     "metadata": {},
     "output_type": "execute_result"
    }
   ],
   "source": [
    "v"
   ]
  },
  {
   "cell_type": "code",
   "execution_count": 71,
   "metadata": {},
   "outputs": [
    {
     "data": {
      "text/plain": [
       "['ẽ', 'e̯']"
      ]
     },
     "execution_count": 71,
     "metadata": {},
     "output_type": "execute_result"
    }
   ],
   "source": [
    "re.findall(r, 'ẽe̯')"
   ]
  },
  {
   "cell_type": "code",
   "execution_count": 76,
   "metadata": {},
   "outputs": [
    {
     "data": {
      "text/plain": [
       "'(?:ɒ|a|ɶ|ɑ|œ|Ã|ɔ|o|ɤ|ɘ|œ|ə|e|ɞ|ø|ɛ|ɵ|ɯ|u|ʊ|ɨ|ʉ|y|i|ʏ|ɪ)(?:̩|̯|̃)?'"
      ]
     },
     "execution_count": 76,
     "metadata": {},
     "output_type": "execute_result"
    }
   ],
   "source": [
    "r"
   ]
  },
  {
   "cell_type": "code",
   "execution_count": 279,
   "metadata": {},
   "outputs": [],
   "source": [
    "a = ['͡|͜', '̥|̊', '̬', '̹|̜', 'ⁿ|ʲ|ʷ|', '̩|̯|̃|']"
   ]
  },
  {
   "cell_type": "code",
   "execution_count": 280,
   "metadata": {},
   "outputs": [
    {
     "name": "stdout",
     "output_type": "stream",
     "text": [
      "['͡', '|', '͜']\n",
      "['̥', '|', '̊']\n",
      "['̬']\n",
      "['̹', '|', '̜']\n",
      "['ⁿ', '|', 'ʲ', '|', 'ʷ', '|']\n",
      "['̩', '|', '̯', '|', '̃', '|']\n"
     ]
    }
   ],
   "source": [
    "for i in a:\n",
    "    print(list(i))"
   ]
  },
  {
   "cell_type": "code",
   "execution_count": null,
   "metadata": {},
   "outputs": [],
   "source": [
    "t̬ - voiced\n",
    "            d̥ - voiceless\n",
    "            ŋ̊ - voiceless\n",
    "            ɔ̹ - rounded \n",
    "            ɔ̜ - rounded \n",
    "            m̩ - sylabic\n",
    "            e̯ - non sylabic\n",
    "            x͜x "
   ]
  }
 ],
 "metadata": {
  "kernelspec": {
   "display_name": "Python 3",
   "language": "python",
   "name": "python3"
  },
  "language_info": {
   "codemirror_mode": {
    "name": "ipython",
    "version": 3
   },
   "file_extension": ".py",
   "mimetype": "text/x-python",
   "name": "python",
   "nbconvert_exporter": "python",
   "pygments_lexer": "ipython3",
   "version": "3.6.5"
  }
 },
 "nbformat": 4,
 "nbformat_minor": 2
}
